{
  "nbformat": 4,
  "nbformat_minor": 0,
  "metadata": {
    "colab": {
      "provenance": [],
      "include_colab_link": true
    },
    "kernelspec": {
      "name": "python3",
      "display_name": "Python 3"
    },
    "language_info": {
      "name": "python"
    }
  },
  "cells": [
    {
      "cell_type": "markdown",
      "metadata": {
        "id": "view-in-github",
        "colab_type": "text"
      },
      "source": [
        "<a href=\"https://colab.research.google.com/github/joaopedroxz/S-DES/blob/main/Trabalho_1_Seguran%C3%A7a_Jota_e_Yuri.ipynb\" target=\"_parent\"><img src=\"https://colab.research.google.com/assets/colab-badge.svg\" alt=\"Open In Colab\"/></a>"
      ]
    },
    {
      "cell_type": "markdown",
      "source": [
        "Segurança Computacional - Trabalho Prático 01\n",
        "\n",
        "Professora: Lorena de Souza Bezerra Borges\n",
        "\n",
        "Discente 1: João Pedro Sousa Vasconcelos - 231021478\n",
        "\n",
        "Discente 2: Yuri Arruda - 231006210\n"
      ],
      "metadata": {
        "id": "yzdsm6zbrMAh"
      }
    },
    {
      "cell_type": "markdown",
      "source": [
        "Primeira função do algoritmo deverá ser para uma permutação onde embaralhará a chave inicialmente."
      ],
      "metadata": {
        "id": "7Ooa6p1ZmsGK"
      }
    },
    {
      "cell_type": "code",
      "source": [
        "# Função que realiza a permutação P10 em uma chave de 10 bits\n",
        "def permutacao_p10(chave_10bits):\n",
        "    \"\"\"\n",
        "    Aplica a permutação P10 (também conhecida como permutação de escolha 1) no S-DES.\n",
        "\n",
        "    Parâmetros:\n",
        "    chave_10bits (str): Uma string representando uma chave de 10 bits (ex: '1010000010')\n",
        "\n",
        "    Retorna:\n",
        "    str: A chave de 10 bits após a permutação P10\n",
        "\n",
        "    A permutação P10 é definida pela seguinte ordem de bits (indexados a partir de 0):\n",
        "    [2, 4, 1, 6, 3, 9, 0, 8, 7, 5]\n",
        "    Isso significa que:\n",
        "    - O bit 0 da saída vem do bit 2 da entrada\n",
        "    - O bit 1 da saída vem do bit 4 da entrada\n",
        "    - E assim por diante...\n",
        "    \"\"\"\n",
        "\n",
        "    # Define a ordem da permutação P10 (índices dos bits de entrada)\n",
        "    ordem_p10 = [2, 4, 1, 6, 3, 9, 0, 8, 7, 5]\n",
        "\n",
        "    # Cria a nova chave selecionando os bits na ordem especificada\n",
        "    # ''.join() concatena os bits selecionados em uma nova string\n",
        "    return ''.join([chave_10bits[i] for i in ordem_p10])\n",
        "\n",
        "\n",
        "# Teste da função com uma chave de exemplo\n",
        "print(\"Permutação P10: \" + permutacao_p10('1010000010'))  # Exemplo de entrada: 1010000010 Saída: 1000001100\n"
      ],
      "metadata": {
        "id": "Mfm9St4i_V9k",
        "colab": {
          "base_uri": "https://localhost:8080/"
        },
        "outputId": "eac76f23-3f41-456d-a4ef-e5e2cc62081b"
      },
      "execution_count": 28,
      "outputs": [
        {
          "output_type": "stream",
          "name": "stdout",
          "text": [
            "Permutação P10: 1000001100\n"
          ]
        }
      ]
    },
    {
      "cell_type": "markdown",
      "source": [
        "Função que irá dividir a chave de 10 bits pela metade, resultando e duas de 5 bits."
      ],
      "metadata": {
        "id": "W6tnrgHqw7Qd"
      }
    },
    {
      "cell_type": "code",
      "source": [
        "def dividir_chave(chave_10bits):\n",
        "  esquerda = chave_10bits[:5] #Divide metade da esquerda com bit < 6 como subchave\n",
        "  direita = chave_10bits[5:]\n",
        "  return esquerda, direita\n",
        "esquerda, direita = dividir_chave('1000001100')\n",
        "print(\"Esquerda:\", esquerda, \"| Direita:\", direita)\n"
      ],
      "metadata": {
        "id": "rEirHKiqwvi6",
        "colab": {
          "base_uri": "https://localhost:8080/"
        },
        "outputId": "ef6cda83-1d82-4a41-b089-51a941f34b03"
      },
      "execution_count": 27,
      "outputs": [
        {
          "output_type": "stream",
          "name": "stdout",
          "text": [
            "Esquerda: 10000 | Direita: 01100\n"
          ]
        }
      ]
    },
    {
      "cell_type": "markdown",
      "source": [
        "Após feita a divisão da chave de 10 bits e permutação P10. Deve ser feita o deslocamento circular de 1 bit para esquerda em cada metade da chave anteriormente dividida.\n"
      ],
      "metadata": {
        "id": "djtVbw5Mnp_N"
      }
    },
    {
      "cell_type": "code",
      "source": [
        "def deslocamento_circular(metade5bits, n=1):\n",
        "  deslocamento = metade5bits[n:] + metade5bits[:n]\n",
        "  #print(deslocamento)\n",
        "  return deslocamento\n",
        "print(\"Deslocamento circular(n=1): \" + deslocamento_circular('10000') + deslocamento_circular('01100'))\n",
        "\n",
        "\n",
        "\n"
      ],
      "metadata": {
        "id": "zxKvP9aPoJU_",
        "colab": {
          "base_uri": "https://localhost:8080/"
        },
        "outputId": "524b5fee-f9be-498a-a1b8-36cccf88b767"
      },
      "execution_count": 73,
      "outputs": [
        {
          "output_type": "stream",
          "name": "stdout",
          "text": [
            "Deslocamento circular(n=1): 0000111000\n"
          ]
        }
      ]
    },
    {
      "cell_type": "markdown",
      "source": [
        "Função permutação P8 que logo após ser realizado o deslocamento circular, iremos selecionar 8 dos 10 bits para fazer uma nova permutação para formar a subchave K1."
      ],
      "metadata": {
        "id": "pLNSacdnxsOf"
      }
    },
    {
      "cell_type": "code",
      "source": [
        "def permutacao_p8 (bits_10):\n",
        "    ordem_p8 = [5, 2, 6, 3, 7, 4, 9, 8]\n",
        "    return ''.join([bits_10[i] for i in ordem_p8])\n",
        "\n",
        "k1 = permutacao_p8 ('0000111000')\n",
        "print(\"Subchave K1: \" + k1)"
      ],
      "metadata": {
        "id": "Pm_C6YRgwNF-",
        "colab": {
          "base_uri": "https://localhost:8080/"
        },
        "outputId": "175d8cad-54aa-43f2-cc73-e478deb3db1b"
      },
      "execution_count": 31,
      "outputs": [
        {
          "output_type": "stream",
          "name": "stdout",
          "text": [
            "Subchave K1: 10100100\n"
          ]
        }
      ]
    },
    {
      "cell_type": "markdown",
      "source": [
        "Agora, para iniciar a geração da subchave K2 será aplicado um deslocamento circular duplo, com n=2 para a esquerda"
      ],
      "metadata": {
        "id": "5jHqN2cp8SVO"
      }
    },
    {
      "cell_type": "code",
      "source": [
        "def deslocamento_circular_duplo(metade5bits, n=2):\n",
        "  deslocamento_duplo = metade5bits[n:] + metade5bits[:n]\n",
        "  return deslocamento_duplo\n",
        "print(\"Delocamento circular duplo: \" + deslocamento_circular_duplo('00001') + deslocamento_circular_duplo('11000'))\n",
        "esquerda_ls2 = deslocamento_circular_duplo('00001')\n",
        "direita_ls2 = deslocamento_circular_duplo('11000')\n",
        "concatenacao = esquerda_ls2 + direita_ls2\n",
        "k2 = permutacao_p8(concatenacao)\n",
        "print(\"Subchave K2: \" + k2)\n",
        "\n",
        "\n",
        "\n",
        "def permutacao_p8 (bits_10):\n",
        "    ordem_p8 = [5, 2, 6, 3, 7, 4, 9, 8]\n",
        "    return ''.join([bits_10[i] for i in ordem_p8])\n",
        "\n",
        "\n",
        "#esquerda_ls2 = deslocamento_circular(esquerda, n=2)  # Antes sendo: '10000' → '00010'\n",
        "#direita_ls2 = deslocamento_circular(direita, n=2)      # Antes sendo: '01100' → '10001'\n",
        "#print(\"LS-2 Esquerda:\", esquerda_ls2, \"| LS-2 Direita:\", direita_ls2)\n",
        "#concatenado_k2 = esquerda_ls2 + direita_ls2\n",
        "#k2 = permutacao_p8(concatenado_k2)\n",
        "#k2 = permutacao_p8 ('0000111000')\n"
      ],
      "metadata": {
        "colab": {
          "base_uri": "https://localhost:8080/"
        },
        "id": "HL_dSO4b8IwH",
        "outputId": "34432a06-c222-4a22-d7df-2d7c1ab4de60"
      },
      "execution_count": 71,
      "outputs": [
        {
          "output_type": "stream",
          "name": "stdout",
          "text": [
            "Delocamento circular duplo: 0010000011\n",
            "Subchave K2: 01000011\n"
          ]
        }
      ]
    },
    {
      "cell_type": "markdown",
      "source": [
        "Permutação P8 para a subchave k2, será mesma função usada para subchave k1"
      ],
      "metadata": {
        "id": "LP-hQ14W7HA2"
      }
    },
    {
      "cell_type": "code",
      "source": [
        "k2 = permutação_p8('0010000011')\n",
        "print(\"Subchave k2: \" + k2) # Saída esperada: '01000011'"
      ],
      "metadata": {
        "colab": {
          "base_uri": "https://localhost:8080/"
        },
        "id": "klZrQ6jz2Wsl",
        "outputId": "cfd6767b-50f2-465d-9b30-d5c2733591cf"
      },
      "execution_count": 70,
      "outputs": [
        {
          "output_type": "stream",
          "name": "stdout",
          "text": [
            "Subchave k2: 01000011\n"
          ]
        }
      ]
    }
  ]
}